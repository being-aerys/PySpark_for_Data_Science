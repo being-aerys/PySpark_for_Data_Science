{
 "cells": [
  {
   "cell_type": "markdown",
   "metadata": {
    "application/vnd.databricks.v1+cell": {
     "cellMetadata": {},
     "inputWidgets": {},
     "nuid": "3f4e7a69-7195-4442-b3eb-95a299d89011",
     "showTitle": false,
     "title": ""
    }
   },
   "source": [
    "In the previous notebook, we saw Spark RDD. However, there are three way of data storage - RDD, DataFrame, and DataSet. Here, we deal with Spark DataFrame."
   ]
  },
  {
   "cell_type": "markdown",
   "metadata": {
    "application/vnd.databricks.v1+cell": {
     "cellMetadata": {},
     "inputWidgets": {},
     "nuid": "69438321-a9e1-4502-a771-e6bbef6f379b",
     "showTitle": false,
     "title": ""
    }
   },
   "source": [
    "# PySpark DataFrame and Operations\n",
    "A PySpark dataframe is not the same as a pandas dataframe. Instead, it is **Spark SQL dataframe**."
   ]
  },
  {
   "cell_type": "markdown",
   "metadata": {
    "application/vnd.databricks.v1+cell": {
     "cellMetadata": {},
     "inputWidgets": {},
     "nuid": "37b8a958-b3e7-43d7-8743-cd91c994af39",
     "showTitle": false,
     "title": ""
    }
   },
   "source": [
    "## A. Import PySpark libraries"
   ]
  },
  {
   "cell_type": "code",
   "execution_count": 0,
   "metadata": {
    "application/vnd.databricks.v1+cell": {
     "cellMetadata": {
      "byteLimit": 2048000,
      "rowLimit": 10000
     },
     "inputWidgets": {},
     "nuid": "4fdc1925-cd71-4fd9-a7fc-22f0497de311",
     "showTitle": false,
     "title": ""
    }
   },
   "outputs": [
    {
     "output_type": "display_data",
     "data": {
      "text/html": [
       "\n",
       "            <div>\n",
       "                <p><b>SparkSession - hive</b></p>\n",
       "                \n",
       "        <div>\n",
       "            <p><b>SparkContext</b></p>\n",
       "\n",
       "            <p><a href=\"/?o=6830564826512492#setting/sparkui/0629-053152-o3raayoz/driver-8435132967578119934\">Spark UI</a></p>\n",
       "\n",
       "            <dl>\n",
       "              <dt>Version</dt>\n",
       "                <dd><code>v3.3.2</code></dd>\n",
       "              <dt>Master</dt>\n",
       "                <dd><code>spark://10.139.64.19:7077</code></dd>\n",
       "              <dt>AppName</dt>\n",
       "                <dd><code>Databricks Shell</code></dd>\n",
       "            </dl>\n",
       "        </div>\n",
       "        \n",
       "            </div>\n",
       "        "
      ]
     },
     "metadata": {
      "application/vnd.databricks.v1+output": {
       "addedWidgets": {},
       "arguments": {},
       "data": "\n            <div>\n                <p><b>SparkSession - hive</b></p>\n                \n        <div>\n            <p><b>SparkContext</b></p>\n\n            <p><a href=\"/?o=6830564826512492#setting/sparkui/0629-053152-o3raayoz/driver-8435132967578119934\">Spark UI</a></p>\n\n            <dl>\n              <dt>Version</dt>\n                <dd><code>v3.3.2</code></dd>\n              <dt>Master</dt>\n                <dd><code>spark://10.139.64.19:7077</code></dd>\n              <dt>AppName</dt>\n                <dd><code>Databricks Shell</code></dd>\n            </dl>\n        </div>\n        \n            </div>\n        ",
       "datasetInfos": [],
       "metadata": {},
       "removedWidgets": [],
       "textData": null,
       "type": "htmlSandbox"
      }
     },
     "output_type": "display_data"
    }
   ],
   "source": [
    "import pyspark\n",
    "from pyspark.sql import SparkSession\n",
    "spark_session = SparkSession.builder.master(\"local[*]\").getOrCreate()\n",
    "# optional\n",
    "spark_session.conf.set(\"spark.sql.repl.eagerEval.enabled\", True)\n",
    "spark_session"
   ]
  },
  {
   "cell_type": "markdown",
   "metadata": {
    "application/vnd.databricks.v1+cell": {
     "cellMetadata": {},
     "inputWidgets": {},
     "nuid": "eb6dd8a4-78f1-4573-90bf-9a5b006328fa",
     "showTitle": false,
     "title": ""
    }
   },
   "source": [
    "## B. Create Spark DataFrame."
   ]
  },
  {
   "cell_type": "markdown",
   "metadata": {
    "application/vnd.databricks.v1+cell": {
     "cellMetadata": {},
     "inputWidgets": {},
     "nuid": "4280887b-98b7-4503-a066-ff2b8c04bfaa",
     "showTitle": false,
     "title": ""
    }
   },
   "source": [
    "### B.1 From imported csv."
   ]
  },
  {
   "cell_type": "markdown",
   "metadata": {
    "application/vnd.databricks.v1+cell": {
     "cellMetadata": {},
     "inputWidgets": {},
     "nuid": "f4e1ad74-60b0-42e9-a5d2-d63d8bfa30a5",
     "showTitle": false,
     "title": ""
    }
   },
   "source": [
    "#### Import data from data source.\n",
    "Here, we will use a csv file to import data but data can be imported into Databricks workspace from different sources. This dataframe is called a SQL dataframe and many native SQL operations can be performed on this dataframe."
   ]
  },
  {
   "cell_type": "code",
   "execution_count": 0,
   "metadata": {
    "application/vnd.databricks.v1+cell": {
     "cellMetadata": {
      "byteLimit": 2048000,
      "rowLimit": 10000
     },
     "inputWidgets": {},
     "nuid": "7efae119-c9e0-4cfb-94fa-26fb0ecd1e21",
     "showTitle": false,
     "title": ""
    }
   },
   "outputs": [
    {
     "output_type": "stream",
     "name": "stdout",
     "output_type": "stream",
     "text": [
      "+---------+--------+------------------+-----------+--------------+----------+----------+-------------+------------------+---------------+\n|longitude|latitude|housing_median_age|total_rooms|total_bedrooms|population|households|median_income|median_house_value|ocean_proximity|\n+---------+--------+------------------+-----------+--------------+----------+----------+-------------+------------------+---------------+\n|  -122.23|   37.88|              41.0|      880.0|         129.0|     322.0|     126.0|       8.3252|          452600.0|       NEAR BAY|\n|  -122.22|   37.86|              21.0|     7099.0|        1106.0|    2401.0|    1138.0|       8.3014|          358500.0|       NEAR BAY|\n|  -122.24|   37.85|              52.0|     1467.0|         190.0|     496.0|     177.0|       7.2574|          352100.0|       NEAR BAY|\n|  -122.25|   37.85|              52.0|     1274.0|         235.0|     558.0|     219.0|       5.6431|          341300.0|       NEAR BAY|\n|  -122.25|   37.85|              52.0|     1627.0|         280.0|     565.0|     259.0|       3.8462|          342200.0|       NEAR BAY|\n+---------+--------+------------------+-----------+--------------+----------+----------+-------------+------------------+---------------+\nonly showing top 5 rows\n\n"
     ]
    }
   ],
   "source": [
    "path_to_filestore_tables = \"/FileStore/tables/\"\n",
    "training_csv_filename = \"housing.csv\"\n",
    "titanic_df = spark_session.read.csv(path_to_filestore_tables+training_csv_filename,\n",
    "                            header=True,\n",
    "                            sep=\",\",\n",
    "                           inferSchema = True)\n",
    "titanic_df.show(5)"
   ]
  },
  {
   "cell_type": "markdown",
   "metadata": {
    "application/vnd.databricks.v1+cell": {
     "cellMetadata": {},
     "inputWidgets": {},
     "nuid": "d6ad08fb-4815-406d-9e37-f7236a4c254c",
     "showTitle": false,
     "title": ""
    }
   },
   "source": [
    "Note that while printing the PySpark SQL dataframe above, we are not retrieving all the rows of the dataframe from the distributed storage of Spark.<br>Let's print the schema of the imported csv file."
   ]
  },
  {
   "cell_type": "code",
   "execution_count": 0,
   "metadata": {
    "application/vnd.databricks.v1+cell": {
     "cellMetadata": {
      "byteLimit": 2048000,
      "rowLimit": 10000
     },
     "inputWidgets": {},
     "nuid": "0c7c2cdf-6c66-47a1-9a3c-07e9e13ae646",
     "showTitle": false,
     "title": ""
    }
   },
   "outputs": [
    {
     "output_type": "stream",
     "name": "stdout",
     "output_type": "stream",
     "text": [
      "root\n |-- longitude: double (nullable = true)\n |-- latitude: double (nullable = true)\n |-- housing_median_age: double (nullable = true)\n |-- total_rooms: double (nullable = true)\n |-- total_bedrooms: double (nullable = true)\n |-- population: double (nullable = true)\n |-- households: double (nullable = true)\n |-- median_income: double (nullable = true)\n |-- median_house_value: double (nullable = true)\n |-- ocean_proximity: string (nullable = true)\n\n"
     ]
    }
   ],
   "source": [
    "titanic_df.printSchema()"
   ]
  },
  {
   "cell_type": "markdown",
   "metadata": {
    "application/vnd.databricks.v1+cell": {
     "cellMetadata": {},
     "inputWidgets": {},
     "nuid": "85dc76ad-c867-47dd-b842-55027e16f7ad",
     "showTitle": false,
     "title": ""
    }
   },
   "source": [
    "### B.2 From RDDs.\n",
    "Spark SQL DataFrames can also be created from RDDs."
   ]
  },
  {
   "cell_type": "code",
   "execution_count": 0,
   "metadata": {
    "application/vnd.databricks.v1+cell": {
     "cellMetadata": {
      "byteLimit": 2048000,
      "rowLimit": 10000
     },
     "inputWidgets": {},
     "nuid": "d6a21ef5-7163-4f06-8627-ad382bfd6c37",
     "showTitle": false,
     "title": ""
    }
   },
   "outputs": [
    {
     "output_type": "stream",
     "name": "stdout",
     "output_type": "stream",
     "text": [
      "Out[18]: ParallelCollectionRDD[70] at readRDDFromInputStream at PythonRDD.scala:435"
     ]
    }
   ],
   "source": [
    "from datetime import date\n",
    "list_of_tuples = [(\"Kathmandu\", 1, 0.91, date(2022,10,11)), (\"Pokhara\", 2, 0.73, date(2022,10,11)), (\"Biratnagar\", 3, 0.66, date(2022,10,11))]\n",
    "\n",
    "# use user-declared Spark Context\n",
    "# rdd = spark_session.sparkContext.parallelize(list_of_tuples)\n",
    "# or use the default Spark Context\n",
    "rdd = spark_session.sparkContext.parallelize(list_of_tuples)\n",
    "\n",
    "rdd"
   ]
  },
  {
   "cell_type": "code",
   "execution_count": 0,
   "metadata": {
    "application/vnd.databricks.v1+cell": {
     "cellMetadata": {
      "byteLimit": 2048000,
      "rowLimit": 10000
     },
     "inputWidgets": {},
     "nuid": "5e73f3ad-2e2f-4f85-8d92-cdd63901aec3",
     "showTitle": false,
     "title": ""
    }
   },
   "outputs": [
    {
     "output_type": "stream",
     "name": "stdout",
     "output_type": "stream",
     "text": [
      "+----------+----+-----------+----------+\n|      City|Rank|Air Quality|      Date|\n+----------+----+-----------+----------+\n| Kathmandu|   1|       0.91|2022-10-11|\n|   Pokhara|   2|       0.73|2022-10-11|\n|Biratnagar|   3|       0.66|2022-10-11|\n+----------+----+-----------+----------+\n\n"
     ]
    }
   ],
   "source": [
    "df = spark.createDataFrame(rdd, schema=[\"City\",\"Rank\", \"Air Quality\", \"Date\"])\n",
    "df.show(5)"
   ]
  },
  {
   "cell_type": "code",
   "execution_count": 0,
   "metadata": {
    "application/vnd.databricks.v1+cell": {
     "cellMetadata": {
      "byteLimit": 2048000,
      "rowLimit": 10000
     },
     "inputWidgets": {},
     "nuid": "df62b8d0-5a40-4aa8-907b-515a8b470be7",
     "showTitle": false,
     "title": ""
    }
   },
   "outputs": [
    {
     "output_type": "stream",
     "name": "stdout",
     "output_type": "stream",
     "text": [
      "root\n |-- City: string (nullable = true)\n |-- Rank: long (nullable = true)\n |-- Air Quality: double (nullable = true)\n |-- Date: date (nullable = true)\n\n"
     ]
    }
   ],
   "source": [
    "df.printSchema()"
   ]
  },
  {
   "cell_type": "markdown",
   "metadata": {
    "application/vnd.databricks.v1+cell": {
     "cellMetadata": {},
     "inputWidgets": {},
     "nuid": "3ef621a0-9c8f-4c97-9e91-a0a772ddf4a7",
     "showTitle": false,
     "title": ""
    }
   },
   "source": [
    "## C. SQL DataFrame Operations"
   ]
  },
  {
   "cell_type": "markdown",
   "metadata": {
    "application/vnd.databricks.v1+cell": {
     "cellMetadata": {},
     "inputWidgets": {},
     "nuid": "8628ec3e-4726-46cc-bf42-49d4fde74c1d",
     "showTitle": false,
     "title": ""
    }
   },
   "source": [
    "#### SQL Statements"
   ]
  },
  {
   "cell_type": "markdown",
   "metadata": {
    "application/vnd.databricks.v1+cell": {
     "cellMetadata": {},
     "inputWidgets": {},
     "nuid": "2f899e66-5b6b-4534-80ef-dc0f0120f1ae",
     "showTitle": false,
     "title": ""
    }
   },
   "source": [
    "A lot of the syntax keywords from SQL are useful to interact with Spark dataframe because Spark dataframe class was built with consideration for SQL. For example, the `LIMIT` keyword useed in SQL can be used as below."
   ]
  },
  {
   "cell_type": "code",
   "execution_count": 0,
   "metadata": {
    "application/vnd.databricks.v1+cell": {
     "cellMetadata": {
      "byteLimit": 2048000,
      "rowLimit": 10000
     },
     "inputWidgets": {},
     "nuid": "d9b49a25-70e6-4bda-afd0-3d2f63f52dd7",
     "showTitle": false,
     "title": ""
    }
   },
   "outputs": [
    {
     "output_type": "display_data",
     "data": {
      "text/html": [
       "<table border='1'>\n",
       "<tr><th>longitude</th><th>latitude</th><th>housing_median_age</th><th>total_rooms</th><th>total_bedrooms</th><th>population</th><th>households</th><th>median_income</th><th>median_house_value</th><th>ocean_proximity</th></tr>\n",
       "<tr><td>-122.23</td><td>37.88</td><td>41.0</td><td>880.0</td><td>129.0</td><td>322.0</td><td>126.0</td><td>8.3252</td><td>452600.0</td><td>NEAR BAY</td></tr>\n",
       "<tr><td>-122.22</td><td>37.86</td><td>21.0</td><td>7099.0</td><td>1106.0</td><td>2401.0</td><td>1138.0</td><td>8.3014</td><td>358500.0</td><td>NEAR BAY</td></tr>\n",
       "<tr><td>-122.24</td><td>37.85</td><td>52.0</td><td>1467.0</td><td>190.0</td><td>496.0</td><td>177.0</td><td>7.2574</td><td>352100.0</td><td>NEAR BAY</td></tr>\n",
       "<tr><td>-122.25</td><td>37.85</td><td>52.0</td><td>1274.0</td><td>235.0</td><td>558.0</td><td>219.0</td><td>5.6431</td><td>341300.0</td><td>NEAR BAY</td></tr>\n",
       "<tr><td>-122.25</td><td>37.85</td><td>52.0</td><td>1627.0</td><td>280.0</td><td>565.0</td><td>259.0</td><td>3.8462</td><td>342200.0</td><td>NEAR BAY</td></tr>\n",
       "</table>\n"
      ]
     },
     "metadata": {
      "application/vnd.databricks.v1+output": {
       "addedWidgets": {},
       "arguments": {},
       "data": "<table border='1'>\n<tr><th>longitude</th><th>latitude</th><th>housing_median_age</th><th>total_rooms</th><th>total_bedrooms</th><th>population</th><th>households</th><th>median_income</th><th>median_house_value</th><th>ocean_proximity</th></tr>\n<tr><td>-122.23</td><td>37.88</td><td>41.0</td><td>880.0</td><td>129.0</td><td>322.0</td><td>126.0</td><td>8.3252</td><td>452600.0</td><td>NEAR BAY</td></tr>\n<tr><td>-122.22</td><td>37.86</td><td>21.0</td><td>7099.0</td><td>1106.0</td><td>2401.0</td><td>1138.0</td><td>8.3014</td><td>358500.0</td><td>NEAR BAY</td></tr>\n<tr><td>-122.24</td><td>37.85</td><td>52.0</td><td>1467.0</td><td>190.0</td><td>496.0</td><td>177.0</td><td>7.2574</td><td>352100.0</td><td>NEAR BAY</td></tr>\n<tr><td>-122.25</td><td>37.85</td><td>52.0</td><td>1274.0</td><td>235.0</td><td>558.0</td><td>219.0</td><td>5.6431</td><td>341300.0</td><td>NEAR BAY</td></tr>\n<tr><td>-122.25</td><td>37.85</td><td>52.0</td><td>1627.0</td><td>280.0</td><td>565.0</td><td>259.0</td><td>3.8462</td><td>342200.0</td><td>NEAR BAY</td></tr>\n</table>\n",
       "datasetInfos": [],
       "metadata": {},
       "removedWidgets": [],
       "textData": null,
       "type": "htmlSandbox"
      }
     },
     "output_type": "display_data"
    }
   ],
   "source": [
    "titanic_df.limit(5)"
   ]
  },
  {
   "cell_type": "markdown",
   "metadata": {
    "application/vnd.databricks.v1+cell": {
     "cellMetadata": {},
     "inputWidgets": {},
     "nuid": "d7cf7fcd-23fe-4c78-96f6-b92156ed1bf8",
     "showTitle": false,
     "title": ""
    }
   },
   "source": [
    "#### SQL SELECT"
   ]
  },
  {
   "cell_type": "markdown",
   "metadata": {
    "application/vnd.databricks.v1+cell": {
     "cellMetadata": {},
     "inputWidgets": {},
     "nuid": "240f5dd2-b727-48b4-82a3-2813d73425b8",
     "showTitle": false,
     "title": ""
    }
   },
   "source": [
    "Similarly the `SELECT` keyword from SQL can be used as below."
   ]
  },
  {
   "cell_type": "code",
   "execution_count": 0,
   "metadata": {
    "application/vnd.databricks.v1+cell": {
     "cellMetadata": {
      "byteLimit": 2048000,
      "rowLimit": 10000
     },
     "inputWidgets": {},
     "nuid": "8b4235db-9873-4342-994c-eddb4110f54f",
     "showTitle": false,
     "title": ""
    }
   },
   "outputs": [
    {
     "output_type": "display_data",
     "data": {
      "text/html": [
       "<table border='1'>\n",
       "<tr><th>longitude</th><th>latitude</th><th>housing_median_age</th><th>total_rooms</th><th>total_bedrooms</th><th>population</th><th>households</th><th>median_income</th><th>median_house_value</th><th>ocean_proximity</th></tr>\n",
       "<tr><td>-122.23</td><td>37.88</td><td>41.0</td><td>880.0</td><td>129.0</td><td>322.0</td><td>126.0</td><td>8.3252</td><td>452600.0</td><td>NEAR BAY</td></tr>\n",
       "<tr><td>-122.22</td><td>37.86</td><td>21.0</td><td>7099.0</td><td>1106.0</td><td>2401.0</td><td>1138.0</td><td>8.3014</td><td>358500.0</td><td>NEAR BAY</td></tr>\n",
       "<tr><td>-122.24</td><td>37.85</td><td>52.0</td><td>1467.0</td><td>190.0</td><td>496.0</td><td>177.0</td><td>7.2574</td><td>352100.0</td><td>NEAR BAY</td></tr>\n",
       "<tr><td>-122.25</td><td>37.85</td><td>52.0</td><td>1274.0</td><td>235.0</td><td>558.0</td><td>219.0</td><td>5.6431</td><td>341300.0</td><td>NEAR BAY</td></tr>\n",
       "<tr><td>-122.25</td><td>37.85</td><td>52.0</td><td>1627.0</td><td>280.0</td><td>565.0</td><td>259.0</td><td>3.8462</td><td>342200.0</td><td>NEAR BAY</td></tr>\n",
       "<tr><td>-122.25</td><td>37.85</td><td>52.0</td><td>919.0</td><td>213.0</td><td>413.0</td><td>193.0</td><td>4.0368</td><td>269700.0</td><td>NEAR BAY</td></tr>\n",
       "<tr><td>-122.25</td><td>37.84</td><td>52.0</td><td>2535.0</td><td>489.0</td><td>1094.0</td><td>514.0</td><td>3.6591</td><td>299200.0</td><td>NEAR BAY</td></tr>\n",
       "<tr><td>-122.25</td><td>37.84</td><td>52.0</td><td>3104.0</td><td>687.0</td><td>1157.0</td><td>647.0</td><td>3.12</td><td>241400.0</td><td>NEAR BAY</td></tr>\n",
       "<tr><td>-122.26</td><td>37.84</td><td>42.0</td><td>2555.0</td><td>665.0</td><td>1206.0</td><td>595.0</td><td>2.0804</td><td>226700.0</td><td>NEAR BAY</td></tr>\n",
       "<tr><td>-122.25</td><td>37.84</td><td>52.0</td><td>3549.0</td><td>707.0</td><td>1551.0</td><td>714.0</td><td>3.6912</td><td>261100.0</td><td>NEAR BAY</td></tr>\n",
       "<tr><td>-122.26</td><td>37.85</td><td>52.0</td><td>2202.0</td><td>434.0</td><td>910.0</td><td>402.0</td><td>3.2031</td><td>281500.0</td><td>NEAR BAY</td></tr>\n",
       "<tr><td>-122.26</td><td>37.85</td><td>52.0</td><td>3503.0</td><td>752.0</td><td>1504.0</td><td>734.0</td><td>3.2705</td><td>241800.0</td><td>NEAR BAY</td></tr>\n",
       "<tr><td>-122.26</td><td>37.85</td><td>52.0</td><td>2491.0</td><td>474.0</td><td>1098.0</td><td>468.0</td><td>3.075</td><td>213500.0</td><td>NEAR BAY</td></tr>\n",
       "<tr><td>-122.26</td><td>37.84</td><td>52.0</td><td>696.0</td><td>191.0</td><td>345.0</td><td>174.0</td><td>2.6736</td><td>191300.0</td><td>NEAR BAY</td></tr>\n",
       "<tr><td>-122.26</td><td>37.85</td><td>52.0</td><td>2643.0</td><td>626.0</td><td>1212.0</td><td>620.0</td><td>1.9167</td><td>159200.0</td><td>NEAR BAY</td></tr>\n",
       "<tr><td>-122.26</td><td>37.85</td><td>50.0</td><td>1120.0</td><td>283.0</td><td>697.0</td><td>264.0</td><td>2.125</td><td>140000.0</td><td>NEAR BAY</td></tr>\n",
       "<tr><td>-122.27</td><td>37.85</td><td>52.0</td><td>1966.0</td><td>347.0</td><td>793.0</td><td>331.0</td><td>2.775</td><td>152500.0</td><td>NEAR BAY</td></tr>\n",
       "<tr><td>-122.27</td><td>37.85</td><td>52.0</td><td>1228.0</td><td>293.0</td><td>648.0</td><td>303.0</td><td>2.1202</td><td>155500.0</td><td>NEAR BAY</td></tr>\n",
       "<tr><td>-122.26</td><td>37.84</td><td>50.0</td><td>2239.0</td><td>455.0</td><td>990.0</td><td>419.0</td><td>1.9911</td><td>158700.0</td><td>NEAR BAY</td></tr>\n",
       "<tr><td>-122.27</td><td>37.84</td><td>52.0</td><td>1503.0</td><td>298.0</td><td>690.0</td><td>275.0</td><td>2.6033</td><td>162900.0</td><td>NEAR BAY</td></tr>\n",
       "</table>\n",
       "only showing top 20 rows\n"
      ]
     },
     "metadata": {
      "application/vnd.databricks.v1+output": {
       "addedWidgets": {},
       "arguments": {},
       "data": "<table border='1'>\n<tr><th>longitude</th><th>latitude</th><th>housing_median_age</th><th>total_rooms</th><th>total_bedrooms</th><th>population</th><th>households</th><th>median_income</th><th>median_house_value</th><th>ocean_proximity</th></tr>\n<tr><td>-122.23</td><td>37.88</td><td>41.0</td><td>880.0</td><td>129.0</td><td>322.0</td><td>126.0</td><td>8.3252</td><td>452600.0</td><td>NEAR BAY</td></tr>\n<tr><td>-122.22</td><td>37.86</td><td>21.0</td><td>7099.0</td><td>1106.0</td><td>2401.0</td><td>1138.0</td><td>8.3014</td><td>358500.0</td><td>NEAR BAY</td></tr>\n<tr><td>-122.24</td><td>37.85</td><td>52.0</td><td>1467.0</td><td>190.0</td><td>496.0</td><td>177.0</td><td>7.2574</td><td>352100.0</td><td>NEAR BAY</td></tr>\n<tr><td>-122.25</td><td>37.85</td><td>52.0</td><td>1274.0</td><td>235.0</td><td>558.0</td><td>219.0</td><td>5.6431</td><td>341300.0</td><td>NEAR BAY</td></tr>\n<tr><td>-122.25</td><td>37.85</td><td>52.0</td><td>1627.0</td><td>280.0</td><td>565.0</td><td>259.0</td><td>3.8462</td><td>342200.0</td><td>NEAR BAY</td></tr>\n<tr><td>-122.25</td><td>37.85</td><td>52.0</td><td>919.0</td><td>213.0</td><td>413.0</td><td>193.0</td><td>4.0368</td><td>269700.0</td><td>NEAR BAY</td></tr>\n<tr><td>-122.25</td><td>37.84</td><td>52.0</td><td>2535.0</td><td>489.0</td><td>1094.0</td><td>514.0</td><td>3.6591</td><td>299200.0</td><td>NEAR BAY</td></tr>\n<tr><td>-122.25</td><td>37.84</td><td>52.0</td><td>3104.0</td><td>687.0</td><td>1157.0</td><td>647.0</td><td>3.12</td><td>241400.0</td><td>NEAR BAY</td></tr>\n<tr><td>-122.26</td><td>37.84</td><td>42.0</td><td>2555.0</td><td>665.0</td><td>1206.0</td><td>595.0</td><td>2.0804</td><td>226700.0</td><td>NEAR BAY</td></tr>\n<tr><td>-122.25</td><td>37.84</td><td>52.0</td><td>3549.0</td><td>707.0</td><td>1551.0</td><td>714.0</td><td>3.6912</td><td>261100.0</td><td>NEAR BAY</td></tr>\n<tr><td>-122.26</td><td>37.85</td><td>52.0</td><td>2202.0</td><td>434.0</td><td>910.0</td><td>402.0</td><td>3.2031</td><td>281500.0</td><td>NEAR BAY</td></tr>\n<tr><td>-122.26</td><td>37.85</td><td>52.0</td><td>3503.0</td><td>752.0</td><td>1504.0</td><td>734.0</td><td>3.2705</td><td>241800.0</td><td>NEAR BAY</td></tr>\n<tr><td>-122.26</td><td>37.85</td><td>52.0</td><td>2491.0</td><td>474.0</td><td>1098.0</td><td>468.0</td><td>3.075</td><td>213500.0</td><td>NEAR BAY</td></tr>\n<tr><td>-122.26</td><td>37.84</td><td>52.0</td><td>696.0</td><td>191.0</td><td>345.0</td><td>174.0</td><td>2.6736</td><td>191300.0</td><td>NEAR BAY</td></tr>\n<tr><td>-122.26</td><td>37.85</td><td>52.0</td><td>2643.0</td><td>626.0</td><td>1212.0</td><td>620.0</td><td>1.9167</td><td>159200.0</td><td>NEAR BAY</td></tr>\n<tr><td>-122.26</td><td>37.85</td><td>50.0</td><td>1120.0</td><td>283.0</td><td>697.0</td><td>264.0</td><td>2.125</td><td>140000.0</td><td>NEAR BAY</td></tr>\n<tr><td>-122.27</td><td>37.85</td><td>52.0</td><td>1966.0</td><td>347.0</td><td>793.0</td><td>331.0</td><td>2.775</td><td>152500.0</td><td>NEAR BAY</td></tr>\n<tr><td>-122.27</td><td>37.85</td><td>52.0</td><td>1228.0</td><td>293.0</td><td>648.0</td><td>303.0</td><td>2.1202</td><td>155500.0</td><td>NEAR BAY</td></tr>\n<tr><td>-122.26</td><td>37.84</td><td>50.0</td><td>2239.0</td><td>455.0</td><td>990.0</td><td>419.0</td><td>1.9911</td><td>158700.0</td><td>NEAR BAY</td></tr>\n<tr><td>-122.27</td><td>37.84</td><td>52.0</td><td>1503.0</td><td>298.0</td><td>690.0</td><td>275.0</td><td>2.6033</td><td>162900.0</td><td>NEAR BAY</td></tr>\n</table>\nonly showing top 20 rows\n",
       "datasetInfos": [],
       "metadata": {},
       "removedWidgets": [],
       "textData": null,
       "type": "htmlSandbox"
      }
     },
     "output_type": "display_data"
    }
   ],
   "source": [
    "titanic_df.select(\"*\")"
   ]
  },
  {
   "cell_type": "markdown",
   "metadata": {
    "application/vnd.databricks.v1+cell": {
     "cellMetadata": {},
     "inputWidgets": {},
     "nuid": "f1f4bc28-4d67-4bad-aaf5-8f0a8fb64c9f",
     "showTitle": false,
     "title": ""
    }
   },
   "source": [
    "We can also combine these commands as below."
   ]
  },
  {
   "cell_type": "code",
   "execution_count": 0,
   "metadata": {
    "application/vnd.databricks.v1+cell": {
     "cellMetadata": {
      "byteLimit": 2048000,
      "rowLimit": 10000
     },
     "inputWidgets": {},
     "nuid": "f7da8b73-161c-4a5a-9c09-b9d159259349",
     "showTitle": false,
     "title": ""
    }
   },
   "outputs": [
    {
     "output_type": "display_data",
     "data": {
      "text/html": [
       "<table border='1'>\n",
       "<tr><th>latitude</th><th>longitude</th></tr>\n",
       "<tr><td>37.88</td><td>-122.23</td></tr>\n",
       "<tr><td>37.86</td><td>-122.22</td></tr>\n",
       "<tr><td>37.85</td><td>-122.24</td></tr>\n",
       "<tr><td>37.85</td><td>-122.25</td></tr>\n",
       "<tr><td>37.85</td><td>-122.25</td></tr>\n",
       "</table>\n"
      ]
     },
     "metadata": {
      "application/vnd.databricks.v1+output": {
       "addedWidgets": {},
       "arguments": {},
       "data": "<table border='1'>\n<tr><th>latitude</th><th>longitude</th></tr>\n<tr><td>37.88</td><td>-122.23</td></tr>\n<tr><td>37.86</td><td>-122.22</td></tr>\n<tr><td>37.85</td><td>-122.24</td></tr>\n<tr><td>37.85</td><td>-122.25</td></tr>\n<tr><td>37.85</td><td>-122.25</td></tr>\n</table>\n",
       "datasetInfos": [],
       "metadata": {},
       "removedWidgets": [],
       "textData": null,
       "type": "htmlSandbox"
      }
     },
     "output_type": "display_data"
    }
   ],
   "source": [
    "titanic_df.select(\"latitude\", \"longitude\").limit(5)"
   ]
  },
  {
   "cell_type": "markdown",
   "metadata": {
    "application/vnd.databricks.v1+cell": {
     "cellMetadata": {},
     "inputWidgets": {},
     "nuid": "d15af889-238d-48b9-87b8-29a6a57b3862",
     "showTitle": false,
     "title": ""
    }
   },
   "source": [
    "#### SQL WHERE\n",
    "We can also make complex queries using SQL keywords as below."
   ]
  },
  {
   "cell_type": "code",
   "execution_count": 0,
   "metadata": {
    "application/vnd.databricks.v1+cell": {
     "cellMetadata": {
      "byteLimit": 2048000,
      "rowLimit": 10000
     },
     "inputWidgets": {},
     "nuid": "0d4d8112-286e-4e9e-934f-6ec58b5a9248",
     "showTitle": false,
     "title": ""
    }
   },
   "outputs": [
    {
     "output_type": "display_data",
     "data": {
      "text/html": [
       "<table border='1'>\n",
       "<tr><th>longitude</th><th>latitude</th><th>housing_median_age</th><th>total_rooms</th><th>total_bedrooms</th><th>population</th><th>households</th><th>median_income</th><th>median_house_value</th><th>ocean_proximity</th></tr>\n",
       "<tr><td>-122.22</td><td>37.86</td><td>21.0</td><td>7099.0</td><td>1106.0</td><td>2401.0</td><td>1138.0</td><td>8.3014</td><td>358500.0</td><td>NEAR BAY</td></tr>\n",
       "<tr><td>-122.24</td><td>37.85</td><td>52.0</td><td>1467.0</td><td>190.0</td><td>496.0</td><td>177.0</td><td>7.2574</td><td>352100.0</td><td>NEAR BAY</td></tr>\n",
       "<tr><td>-122.25</td><td>37.85</td><td>52.0</td><td>1274.0</td><td>235.0</td><td>558.0</td><td>219.0</td><td>5.6431</td><td>341300.0</td><td>NEAR BAY</td></tr>\n",
       "<tr><td>-122.25</td><td>37.85</td><td>52.0</td><td>1627.0</td><td>280.0</td><td>565.0</td><td>259.0</td><td>3.8462</td><td>342200.0</td><td>NEAR BAY</td></tr>\n",
       "<tr><td>-122.25</td><td>37.84</td><td>52.0</td><td>2535.0</td><td>489.0</td><td>1094.0</td><td>514.0</td><td>3.6591</td><td>299200.0</td><td>NEAR BAY</td></tr>\n",
       "</table>\n"
      ]
     },
     "metadata": {
      "application/vnd.databricks.v1+output": {
       "addedWidgets": {},
       "arguments": {},
       "data": "<table border='1'>\n<tr><th>longitude</th><th>latitude</th><th>housing_median_age</th><th>total_rooms</th><th>total_bedrooms</th><th>population</th><th>households</th><th>median_income</th><th>median_house_value</th><th>ocean_proximity</th></tr>\n<tr><td>-122.22</td><td>37.86</td><td>21.0</td><td>7099.0</td><td>1106.0</td><td>2401.0</td><td>1138.0</td><td>8.3014</td><td>358500.0</td><td>NEAR BAY</td></tr>\n<tr><td>-122.24</td><td>37.85</td><td>52.0</td><td>1467.0</td><td>190.0</td><td>496.0</td><td>177.0</td><td>7.2574</td><td>352100.0</td><td>NEAR BAY</td></tr>\n<tr><td>-122.25</td><td>37.85</td><td>52.0</td><td>1274.0</td><td>235.0</td><td>558.0</td><td>219.0</td><td>5.6431</td><td>341300.0</td><td>NEAR BAY</td></tr>\n<tr><td>-122.25</td><td>37.85</td><td>52.0</td><td>1627.0</td><td>280.0</td><td>565.0</td><td>259.0</td><td>3.8462</td><td>342200.0</td><td>NEAR BAY</td></tr>\n<tr><td>-122.25</td><td>37.84</td><td>52.0</td><td>2535.0</td><td>489.0</td><td>1094.0</td><td>514.0</td><td>3.6591</td><td>299200.0</td><td>NEAR BAY</td></tr>\n</table>\n",
       "datasetInfos": [],
       "metadata": {},
       "removedWidgets": [],
       "textData": null,
       "type": "htmlSandbox"
      }
     },
     "output_type": "display_data"
    }
   ],
   "source": [
    "titanic_df.where((titanic_df.total_rooms > 1000) & (titanic_df.ocean_proximity == \"NEAR BAY\")).limit(5)"
   ]
  },
  {
   "cell_type": "markdown",
   "metadata": {
    "application/vnd.databricks.v1+cell": {
     "cellMetadata": {},
     "inputWidgets": {},
     "nuid": "c88d975e-71e6-4b86-9546-f0f32fa8eada",
     "showTitle": false,
     "title": ""
    }
   },
   "source": [
    "#### SQL Aggregate Functions"
   ]
  },
  {
   "cell_type": "code",
   "execution_count": 0,
   "metadata": {
    "application/vnd.databricks.v1+cell": {
     "cellMetadata": {
      "byteLimit": 2048000,
      "rowLimit": 10000
     },
     "inputWidgets": {},
     "nuid": "c12e8e74-16c9-4e37-88d4-c78072265052",
     "showTitle": false,
     "title": ""
    }
   },
   "outputs": [
    {
     "output_type": "display_data",
     "data": {
      "text/html": [
       "<table border='1'>\n",
       "<tr><th>avg(total_rooms)</th></tr>\n",
       "<tr><td>2635.7630813953488</td></tr>\n",
       "</table>\n"
      ]
     },
     "metadata": {
      "application/vnd.databricks.v1+output": {
       "addedWidgets": {},
       "arguments": {},
       "data": "<table border='1'>\n<tr><th>avg(total_rooms)</th></tr>\n<tr><td>2635.7630813953488</td></tr>\n</table>\n",
       "datasetInfos": [],
       "metadata": {},
       "removedWidgets": [],
       "textData": null,
       "type": "htmlSandbox"
      }
     },
     "output_type": "display_data"
    }
   ],
   "source": [
    "titanic_df.agg({\"total_rooms\":\"avg\"})"
   ]
  },
  {
   "cell_type": "code",
   "execution_count": 0,
   "metadata": {
    "application/vnd.databricks.v1+cell": {
     "cellMetadata": {
      "byteLimit": 2048000,
      "rowLimit": 10000
     },
     "inputWidgets": {},
     "nuid": "788a1066-ee91-4587-b016-a68172f6fad4",
     "showTitle": false,
     "title": ""
    }
   },
   "outputs": [
    {
     "output_type": "display_data",
     "data": {
      "text/html": [
       "<table border='1'>\n",
       "<tr><th>ocean_proximity</th><th>avg(total_bedrooms)</th></tr>\n",
       "<tr><td>NEAR OCEAN</td><td>538.6156773211568</td></tr>\n",
       "<tr><td>NEAR BAY</td><td>514.1828193832599</td></tr>\n",
       "<tr><td>ISLAND</td><td>420.4</td></tr>\n",
       "<tr><td>INLAND</td><td>533.8816194581281</td></tr>\n",
       "<tr><td>&lt;1H OCEAN</td><td>546.5391852999778</td></tr>\n",
       "</table>\n"
      ]
     },
     "metadata": {
      "application/vnd.databricks.v1+output": {
       "addedWidgets": {},
       "arguments": {},
       "data": "<table border='1'>\n<tr><th>ocean_proximity</th><th>avg(total_bedrooms)</th></tr>\n<tr><td>NEAR OCEAN</td><td>538.6156773211568</td></tr>\n<tr><td>NEAR BAY</td><td>514.1828193832599</td></tr>\n<tr><td>ISLAND</td><td>420.4</td></tr>\n<tr><td>INLAND</td><td>533.8816194581281</td></tr>\n<tr><td>&lt;1H OCEAN</td><td>546.5391852999778</td></tr>\n</table>\n",
       "datasetInfos": [],
       "metadata": {},
       "removedWidgets": [],
       "textData": null,
       "type": "htmlSandbox"
      }
     },
     "output_type": "display_data"
    }
   ],
   "source": [
    "titanic_df.groupBy(\"ocean_proximity\").agg({\"total_bedrooms\":\"avg\"}).orderBy(\"ocean_proximity\", ascending = False)"
   ]
  },
  {
   "cell_type": "markdown",
   "metadata": {
    "application/vnd.databricks.v1+cell": {
     "cellMetadata": {},
     "inputWidgets": {},
     "nuid": "0a5d7ed1-2f28-4a5f-a967-f0967a4d2cd2",
     "showTitle": false,
     "title": ""
    }
   },
   "source": [
    "A temporay view is needed to run SQL queries on the dataframe data since SQL queries cannot be done directly on a dataframe. This temporary view's lifetime is tied to this SparkSession and gets killed off once the session ends. The temporary view is useful if you want to access the same data multiple times within the notebook. Also, it will not copy the actual data at any place."
   ]
  },
  {
   "cell_type": "code",
   "execution_count": 0,
   "metadata": {
    "application/vnd.databricks.v1+cell": {
     "cellMetadata": {
      "byteLimit": 2048000,
      "rowLimit": 10000
     },
     "inputWidgets": {},
     "nuid": "201519f2-5a25-4da1-9150-ffd1c4e73a22",
     "showTitle": false,
     "title": ""
    }
   },
   "outputs": [],
   "source": [
    "df.createOrReplaceTempView(\"temp_table_view\")"
   ]
  },
  {
   "cell_type": "markdown",
   "metadata": {
    "application/vnd.databricks.v1+cell": {
     "cellMetadata": {},
     "inputWidgets": {},
     "nuid": "307a5194-7057-44fe-a257-adf8f7a6435a",
     "showTitle": false,
     "title": ""
    }
   },
   "source": [
    "This temporay view can be used to run SQL queries on. For example, as below:"
   ]
  },
  {
   "cell_type": "code",
   "execution_count": 0,
   "metadata": {
    "application/vnd.databricks.v1+cell": {
     "cellMetadata": {
      "byteLimit": 2048000,
      "implicitDf": true,
      "rowLimit": 10000
     },
     "inputWidgets": {},
     "nuid": "92e11dd2-0d6e-4c3f-8dfc-b57e3a98238e",
     "showTitle": false,
     "title": ""
    }
   },
   "outputs": [
    {
     "output_type": "display_data",
     "data": {
      "text/html": [
       "<style scoped>\n",
       "  .table-result-container {\n",
       "    max-height: 300px;\n",
       "    overflow: auto;\n",
       "  }\n",
       "  table, th, td {\n",
       "    border: 1px solid black;\n",
       "    border-collapse: collapse;\n",
       "  }\n",
       "  th, td {\n",
       "    padding: 5px;\n",
       "  }\n",
       "  th {\n",
       "    text-align: left;\n",
       "  }\n",
       "</style><div class='table-result-container'><table class='table-result'><thead style='background-color: white'><tr><th>City</th><th>Rank</th><th>Air Quality</th><th>Date</th></tr></thead><tbody><tr><td>Kathmandu</td><td>1</td><td>0.91</td><td>2022-10-11</td></tr><tr><td>Pokhara</td><td>2</td><td>0.73</td><td>2022-10-11</td></tr><tr><td>Biratnagar</td><td>3</td><td>0.66</td><td>2022-10-11</td></tr></tbody></table></div>"
      ]
     },
     "metadata": {
      "application/vnd.databricks.v1+output": {
       "addedWidgets": {},
       "aggData": [],
       "aggError": "",
       "aggOverflow": false,
       "aggSchema": [],
       "aggSeriesLimitReached": false,
       "aggType": "",
       "arguments": {},
       "columnCustomDisplayInfos": {},
       "data": [
        [
         "Kathmandu",
         1,
         0.91,
         "2022-10-11"
        ],
        [
         "Pokhara",
         2,
         0.73,
         "2022-10-11"
        ],
        [
         "Biratnagar",
         3,
         0.66,
         "2022-10-11"
        ]
       ],
       "datasetInfos": [],
       "dbfsResultPath": null,
       "isJsonSchema": true,
       "metadata": {},
       "overflow": false,
       "plotOptions": {
        "customPlotOptions": {},
        "displayType": "table",
        "pivotAggregation": null,
        "pivotColumns": null,
        "xColumns": null,
        "yColumns": null
       },
       "removedWidgets": [],
       "schema": [
        {
         "metadata": "{}",
         "name": "City",
         "type": "\"string\""
        },
        {
         "metadata": "{}",
         "name": "Rank",
         "type": "\"long\""
        },
        {
         "metadata": "{}",
         "name": "Air Quality",
         "type": "\"double\""
        },
        {
         "metadata": "{}",
         "name": "Date",
         "type": "\"date\""
        }
       ],
       "type": "table"
      }
     },
     "output_type": "display_data"
    }
   ],
   "source": [
    "%sql\n",
    "SELECT * FROM temp_table_view\n",
    "LIMIT 5\n"
   ]
  },
  {
   "cell_type": "code",
   "execution_count": 0,
   "metadata": {
    "application/vnd.databricks.v1+cell": {
     "cellMetadata": {},
     "inputWidgets": {},
     "nuid": "c3e5ba27-d682-4822-8f36-0c584f7946dd",
     "showTitle": false,
     "title": ""
    }
   },
   "outputs": [],
   "source": []
  }
 ],
 "metadata": {
  "application/vnd.databricks.v1+notebook": {
   "dashboards": [],
   "language": "python",
   "notebookMetadata": {
    "mostRecentlyExecutedCommandWithImplicitDF": {
     "commandId": 3325008465913875,
     "dataframes": [
      "_sqldf"
     ]
    },
    "pythonIndentUnit": 4
   },
   "notebookName": "02_sparkSQLDataFrame",
   "widgets": {}
  }
 },
 "nbformat": 4,
 "nbformat_minor": 0
}
